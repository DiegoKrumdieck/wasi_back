{
  "nbformat": 4,
  "nbformat_minor": 0,
  "metadata": {
    "colab": {
      "name": "GENERAR LUGARES DE INTERES - WASI.ipynb",
      "provenance": [],
      "collapsed_sections": []
    },
    "kernelspec": {
      "name": "python3",
      "display_name": "Python 3"
    },
    "language_info": {
      "name": "python"
    },
    "accelerator": "GPU"
  },
  "cells": [
    {
      "cell_type": "markdown",
      "source": [
        "# Leer datos de inmuebles"
      ],
      "metadata": {
        "id": "EdYBQ4EHCZSz"
      }
    },
    {
      "cell_type": "code",
      "source": [
        "!pip install -U -q PyDrive"
      ],
      "metadata": {
        "id": "4h566QY1c2nS"
      },
      "execution_count": null,
      "outputs": []
    },
    {
      "cell_type": "markdown",
      "source": [
        "Estructura requerida para CSV: \n",
        "\n",
        "![FORMATOCSV.png](data:image/png;base64,iVBORw0KGgoAAAANSUhEUgAAAYAAAACiCAYAAABI1Bo2AAAAAXNSR0IArs4c6QAAAARnQU1BAACxjwv8YQUAAAAJcEhZcwAADsMAAA7DAcdvqGQAACApSURBVHhe7Z1fjuMqFsZ7QSON5rUWVNLsopfQygqulC2UagVZQt768c4C7g48fBhijA9wsMF22t9PQqokBA5w/mBSwI///Oc/w7///e/hX//61wD+/vvv4Z9//mHqnP7666/hv//9r+1zQgg5AgaAgxP6m4mJiemIJAYAzE6ZmJiYmP7slAwAWJ5gYmJiYvpzUzYA/O9///tjEiGEkDkMAIQQclEYAAgh5KJcNwB8fw4/fnwO3+4lIYRcjRMEgOfw+LoPt5+34espfd4mLagJADbvj+HHZ2W4+P1r+MD3bDpBsDmbPISQQzk0ADwfxvHf7sPX4zl83XYOALUgCNQGgBffw+dGh/v718fw8eu3e7WV7fIQQt6f0ywBMQDkYQAghLTmegFAtQzye/j1+eHymPRh8v3qFACMPJ8f87p+fQeOfiZvmD6G9fEgIY9f6oIMQfs/Fu2e9w8C06+P8e/VXUQI2Z0LPwGknDKcmXGuMyds8sLBdXkC+D38Dh05AoKQd7cnABtwPoZPX5cRDs49bDr65zPon98mcOA7zcQjhOwCA4B79QIOUHL0vZaA7BPAOHue0sEB4OOXezHy/RkEAOFzYIMmAwAhbwUDgHv1YtcAgPejp41EXgYAQkhrGADcq4maJSCUgRl7yfkl6oIzxfv+u79/G2eLtfVEAJi88PBtXiPfvNqN8oBSADAsloCsLAwAhLwbxwaAx334+fPnIt2+nnL+Dcnjf6xcpJnTm//I+foROM7nfjRNzcw1df025U4/8sKx4jeA8e95sS4Iubwfn7/mvx2ArfK47/v3UAqcv39vKnfeP3ifTwCEvB+neQLonXowOsfETPoAjpSHAYCQ94MBYAOYUbdbl9/OUfL8Nk8tdinLvSaEvAcMAGQVs+Uk7Bvg7J+Qt4MBgBBCLgoDACGEXBQGAEIIuSgMAIQQclEYAAgh5KIwABBCyEU5PADYS2H8LmBcDtPpOIg5OEphrxMsy3WNp2lu/5dK/D/+tFsYu4rdByE1dbmdwcVyxLr8sRRhEvYKqORRjFdBnnBHc5jEtqG+cCe4nGkTe8qjrkutG2l59O36tpsH7eeJuqr1eYsequTR9s/7cGwAeH7NroJ8PuavWyaPHUQM3nf/4wtUddnzgKbPxk1VK+QydUEp/RE9YjnunJ/XWzjjKLWBy8n1YQxQNipTdngekKkveGnIlO1RyKMbr7I8cFjxd6X3xrJ+2HOXFkdtNGRPeVR1qXUjL4+uXThKJKjL8P0Z1aXRZyuLeS8z7mOegh5q5Gllpyfj0ADwuN+G+yN+7+fivRZJoncACEnVBeOIHSxmUUunW8+iHDjTSAi5LjjbcVex+DmMM37TGMjrDgGLwvDU8owkx0slT0Ts8Byo/5Dd3XvKI9WlHItqeZR1aU67XcjTUQ9jeXra6ZGc7DeAx3DvdCqoxBkCwBKjsC3ksjO4uByUHRojHH18ouio/N6wZCV3ZU/Ts/FwOFP2BPL4R24kY0CLRunk8aT7UCPPHNnhoJzSbLEPe8qTrKs4FvXySHWJ9UvOPCSlzw30cJU8tr9S+vg+nCgAjBfD95j9I0lsCQDFkzUjdHXB6KR1zAqguFYWGIZ7L8CePmrqwOPrpzHwRV32+5ORJ2c5mDW92mzy45E443CBNIsqyhOQ7cNKecSy3Gw1LMueuuo+1lKrG6CnPDGpfiyOxQp5pLqqHC7et3WZcjrpYX0AaGCnJ+EcAeDZb+bvk0TKEHpQrAsznJbySOXBWCKtjeWCMYwGN09FZYfBFAxvYVQKeUKqxisnj7QsAex34PzMZ/5D9GNvS99TnkxdxbGolSdR1+onAM34Wxnr9LBKHq0cb8LhAcD+F9DtPjw6On8kiSqHspFcXf6HzvmPVw1QKHppHVO7zol8CyOK2ShPzXjl5BEN3mKMGzPN2Ucw+IJD2cie8qTq0o1FnTzJdgnONd0HASmnHLBGD7XydLPTAzn8R+Db/TE8Z++d5UdgKDtmv3qnkyNVFx5H7X9UuNcg5QTxPmbjH8KzsFX8sBw7U4mMAQo8q8s8yn7m/50tJUv4HyBoA2ZdYTFju6aZ4vhfE1FZlfJkg2jwviRPSLYcGH4gpDX6RQfsoxtAJw/anNaNkGRdyrHQygPS7cISSuBIra6a1+4lUOmzoYkequQZ2z0vW7aNd+LAAPAY7sEtYGHqGgCMwoZLGz4tZg0uX3E2kaNYl3ckyyQpVsnIx/+V92WYR3VBdmuwQZ5k8/D4/soXyeOM0X5mjPxTK48wdSrKoxkvpTyW1BJIgHUkvi4pbwvd8LSQx6AKAIW6tLqhkafYrtmYybPqoj431MO8POaz1/fniQHgTVIto0HNZwGEAOoG+VNgAEhw1O1a5PxQN8ifAgMAIYRcFAYAQgi5KAwAhBByURgACCHkojAAEELIRWEAIISQi8IAQAghF+XwAIBLYO43vwt4n9NAZzseP/JHIWynfJtVO3nKdWFXI7bop+ryO0rjNN/xKO2MTG2M0txmVcgT7VDttftS03Zd/2gp30L1wu0+Fusp9I9aZlU/a2TW6CE5A8cGgMfdXgPpD4Lb40aw8YiDSTF73uxjHTuM5BtnjSTqaCSPqi5jmKWbj+CI4+8u30MA0OyEHQOFPUMl2Z5SHnxu6g/25qOPpN38W9G0Xdc/Gspj8cLpyNrb2XQya/q5LLNOD8lZON0SUO/D4KD4sRFhhiTPdtqRMoYe8iQND8YZfVA8hVE80wXOohwA0I7SjtliHiPz4onAyCSdc9Qcse0RmjwS6rGAIx37SNSLNf0jyawpp1J/GADOz7kCAO4F6P0EsMA4sx0UVW8M2+VJ1SUaq2T4AbKBIwBMSwniQV2qIKHNY9rjp6K/y7d9taIYHA2aPBLasUA+/548Majvn/SY5svRyuxhADg/5wgAWApyvwF87XgjmFFpq6QZ/5fktDeCGVoGAK0RL55k3CwT5ft15cXtUZo8IPgc686aW59imt3SFaHtnxjVWOB1ECCTT4aV/ZOUuVAOA8Cfx/meAPa6E9ge/7qfghaNoaE8qbqqA4C0VJAiLgevjRzZ26M0eSTs9+oCQDWattf0T4RmLJBnFqxcKnVPtn9qxzQohwHgz+N0vwHYp4H7Q/5sQwrxP1TNf+DqS84YWsuTrEswVtGoHbnPFizKdksKs68jyIWOSZNniea3ha1o2l7VPzGVYwGSTwARuf6pkXlRTqXMDADn59AAgB98ZzeC2ScA897Xc5F3a/JgqUJ3sw+cE2ZcbZQ4ZQx6ecb3MQNcfeuTqaV081FIXuZp1j7+59JSZuscgjdtoIsyqfIEMqBuzEqXYu0zXiGlPPnxqhsLkNILXf+M5GQul9NGf8h5OPwJ4PF1H26v28Buw72D80ca8U5imRaGhdmOeV87WxJxZcRpKrNCHkPWoRTrclijdZ+HxhxTWCpQ3bJksI7E50uUl80zk9fUkwp+LcbL02j5pxiwa8YCeVya6Ya2f0BOZm05JZm1ekhOwfmWgDqlWkbjTc9uyLngeBFSDwNAAt769F5wvAiphwGAEEIuCgMAIYRcFAYAQgi5KAwAhBByURgACCHkojAAEELIRWEAIISQi3KeAOBOBN3nRrBf025Gu4vVfdCF8u1I9vgDv2vyo3AzVJZWdSlufdKUU5snMRZ7jZffuRsnub7CLWYaFG1X9aFmvBS68cLUibJieXbvH9KdcwSA53gT2O22QwCAchsj8VvYx3Ns+pxZ4g95y96OZLf5T5+tladdXeb7pZuq4iMFcDxAvAtXk8e8mp1Bb4BMs+MFdhwvOKy4XOm9Ue4f9syi8PycOhRtV/VhebxUuuFxOiLdPrZv/5A9OEEAeA5f7gC4XreBIeXAzKb3BCVleDCgpaFtk2dTXXAW0ZcXJz4KeTTlSHkWM0PjgEq3fe0xXpbYATtQ/+Zdx5q2r+zn9Sd0IkCMbVP1cc/+IbtweAB4ft1exz8fEgDsrCpnFG0ozrxeGHnUeWW21CU6j4WzwvdCw4fj+IwcgTJPOAs2Y1G87Wun8QKyI0X98Sx8DZq2l/tQN14TOd1AWf57mgDQt3/IHhwbAOy6/314uNe7BgAYiV2fhBG69yp4xxvB5sh1aR3Kb6wnm+9juQBHAksya/Kg7HCNO3mb1c7jBcR+dLPeUG7xFjMNiraX+rBZALD9OzluTQDo3j+kO4cGADv7fx0FPaUeQSAJZpQpo2hI0Sk3lGNLXSqHAuOOvMOiTk0eCdSVccp7jZd3ZItqrHxwxuYz/yFkKnlLDXHbFX3YKgCgnFdQDFKyWUf0D2nOOX4Edumo3wByBtOKnPPzP9LNfgDcwKa6hL6InYzkdOIZoyaPhGr9eIfxEh2rxTgzPIXMPkJQygQtJXHbVX2oGK8QVRA2lMbqiP4h7blcALBGZjT7pZ92Rik5HSgyZkE6gymRMjz8MDuTx5AyPryPWdnaG8F0dY3rzK8AYftnWhqwIIjMyjHf+Yz+/VCTx1C6heps4wWs8ws6zQbVeSdaSuNVaruuDxXjFdAqALToH3I85wgA9t9A91sCWtxmJWmyUdrReBXWksKVEaepTO+0lkmyl6xDaVmXc7L288TTgjXqVxmyMyjmmdWDcZCdxG7j5UktbwRYh+1lSuTNjpey7Zp+npcljFdRNwLQ9iCP6Lcb9Q85nlM9AfRMtYzGm55JkXPB8SKkHgaABLxh6r3geBFSDwMAIYRcFAYAQgi5KAwAhBByURgACCHkojAAEELIRWEAIISQi8IAQAghF+XgAPAY7sEO4DFNp4O2TCJuh2TfXeqtbukqoyon2lkqt10jc/mWrlIev1M2TsuyFLdZqdoF8jdVadrVAn3bQV5mFQrd0I1pvhxtu3Q6X3kzXWm8TF5JFkuj/nk3ThAA+jj8OC2wW94/Bunmo1ZYJYcyfeO8ltQ2/lEO/xmULOvoUqjKwXEQ5r3grADkC48OUMkMQzJ5/PfEuhR54NTi8uP3VPIo2jWCfD/G83WkcjTtaoSm7SMFmTXERzfg6Ih417Sm7QodU7VLpas492h+hMTiZjr1uBtcnaK9t+qfN+SiAQDOZNw5ihnLHpE85bxgHHH9a2RSlQMljjMZ5U/dwJV2uEs0MhfzxIYYkQ1Iinah/trdwmvGYhWJtq+ReYHpn7iMNeO1SleFdml1NZZ5cQKpWp8L9t6of96Rky0B3Yb711PItz2FQJG84uw1iHpnamYfFY43jVRONGMyM53cDVxqme2MqZBXkSd9xPBIWh5Nu5AnnkEW0LSrEXLbV8gsYsqZOWE4xPh2tghV21HutjEdWZYjfm/h8J2MBX0u23uv/jk/p/sR+HE3QaDnaaBQosCo1gaA2humdM4UitdibTFTDmY7L1lNP+BRdq3Mti9RFozQvRejyeMo1Zf9vNQuNxMN8yVvqqqQWaJWN4DYthqZC6huZwPqtut0tahDiXJ0AcAQ9I047rY9ZXtv3z/vwekCgL0m0t0R3DJ57GzAK0yQSoq8laIhYEZRNBYFteVAoROOqWy8Dk2dpTyJJZAQtTwgbpd9DeM2dfgyIFNu4FuNSYlU29fILGHKic/j36SP2n4pjWmmHHUAiInGXWXvrfvnjbhcAIg5wxKQ/6FT/PGqgjXloP2pR/Rqh6sxzkQe0eAjauRZtssYLGZts+/DiOXg90LTro2k275S5gipfJXeC22v0bHcmBbLkepW6EhOn4HU7pb9824cGgCw3HO7fw3P5/j6+RgvhtnzTuD0QMP4MFuocIIZUs4LP4jZ//Bwr0FKJryP2Yt0wYi2nOItVAFpmbEUEdRlZ0Nzw9PkCdE491weTbusoQcdYp1Q8Fov8z66AUoye3K6YT6ct8v8Fd8sphtTva6CbTqPpaEgQFh5zGv30lOjz0CUt1H/vCOHPwE8vu7BbWBY/+//I7AFj6fWiMckKcVoUBsG2JURp6lM70iWaSGPAUqIz5ZGrizHKa39zBineAtVUeYRzS1dqpu8QG6pQCOPpl0O6yR8OUKdKplb6IZHsfRVkhmkdWPEBg5fRiJw5dtep6vpdlWUMxtX4WmhYtxL9r69f96T8y0BdUq1jAa1nHEQQt0gfwoMAAl4wxRJQd0gfwoMAIQQclEYAAgh5KIwABBCyEVhACCEkIvCAEAIIReFAYAQQi4KAwAhhFyUkwSApz0W4nUsdNezgKSdiD039ZRvs5rtQvyYb0GvI3+Dkt8tGqfFDswaedyuWHE3qKV0A1eprv3GS90/lsa3dGFnqVREqzwKPdTlcRTHnbwDJwgA450AN+P0/ZlAPdIEHMo+uzitc4NT+x6PvBWNym5Rnz5bf9MQzi+Zb72Pb1CCw4rLXbwXb+HHdvtUfznZ07eqjc7bnqEitUfV9v3GS9U/lkK7VKAMU3ZwvsHyNqs2eTR6qNJVT3HcybtweAB43I3z73QJTJgm9nMoIbmDsWIjwky02rBgwFEFxdMTY2cPhHJkeeAoxh2xKXnxfq5+XduPGS+L1D+GUrtUmH5ePDWY+mbny7TKE1B07oZ8nvK4k/fh4ABwxJWQcCj+cdk9MpcsogEawxsx8qnzTojOXnIOAXKAQP2h04PBL29Hwnd92bIjWOO4pbYfM14g2T9NAhLKMW31U3XzpCXfYtYiz8TWAFAed/JOHBsAnl/D7fZl7wDwJ4La46GlvBtTDmkmWqL21iddABgfv9cY1ZoAkJKpeDsSyg2coOgI3OwZef36dP42K33b9xgvIPZPdbsyBGXY0y6xBBbL0yqPQ6OHyTymnuK4k7fi2ACAy19ut+FugsBr/f9pngp2vBDGAsXurMlFw7NH25aNM0V1AHCObFEdnEn0nVh2Owv0DidIs6+hbvM91W1WtW3fYbxy/dPkli4JW3Y6IFk25tkSAFTjTt6KEywB3Yav2Y+/5j08FczybU9ZdnAoOcPzP8D5p/hVCG0Qg4Ij9Zn0fmmml14CitsMRz93TKvavsN4pftO1641oB9T4+XZmmdLAIgp6QU5P4f/CPz8wq1g04z/ieWgjk8AWD6wj+xOwcf/PEk5MMxwdMZQImVUozyl25FG8D5mXPKlH+Na/cuR2ln19LgekzRyOOSZPKbc6HakmJS81okGH1hnH7zWtP1s4wVK7fLkx8t8Lygf7cSsPa6yVR4PAwAJOTwAIM32AGA5SMizNYUsbvaRpp+YZVrjVVhCCldGnKYyvdNaJsmwSg5ldPqujNysOrW84bAO7SVLxhmgnFe+lMzBssGsTn3bdxsvT6F/QLpdE9nxmo2VaVPPPEU9NGjyeBTjTt6DUwSAPVIto/GmZ9DkXHC8CKmHASABb316LzhehNTDAEAIIReFAYAQQi4KAwAhhFwUBgBCCLkoDACEEHJRGAAIIeSiMAAQQshFOTQA4C6A1w7gIN0fcv4taUmDG51UlG9Zmu28/cgfu5AnfyPYiOLWp2gnsNg1xTzSTt/MRi23E1Wqq13/5PE7d+Mkq0YD/dG0S932nDzasVDoT1GeynEnh3JwAIgPgpPfa5HmjEpqz6Hp5EyAdVwwku/xqGPRoOy2+umz8aybjHNOgjN75kcSxDeCqeSxfWM+C45bWHML1ZhHafiuD8Qbppr1Txk40Lhc6b2xbRv1Jz5uAkc6xP2lyWMpyaMZi7L+6OTR1EXOwrmWgNz9AN3PAjIzvb13jaYcLhxM7PQg38IRloBzjypIn2iZOfDLlLOYzRrDr7+FSusIEIzG8ZDa3ax/1hA7PEcT/RHGa9EuTR5DWR7FWGj0RyUPA8A7caoAYE8G7XQ95MQxCpqecccY+dR5J0RnLzlqh/oJwMzy1t9UFS4D4KCyZYWQ28soObcl6/pnDXIARbta6A/aEQYXBML45jVlnqI8yJMfC53+aOXJ10XOw6kCwNetz/IP0gs3q7OzGaeka250evcbwbLyBH2Ddd6tt1B5FrN5yBc4r3IAWN8/Z7wRrHjzmqGYZ6U88Vho9Ucjc4z0FEfOwXkCQMflH6QXUGo4EWM0r/VSrGV21tBiAIAMpTwZmgaAGNtneeeuzhPIA5lnztglUeSN/VNNYvmnmf6YcuI7BBZjosyzSh5hLIr6o5FHIi6HnIbTBICeyz9IE8Y4zOxlrrRwLgXntZGcofgfZ+c/olYiGJlo1I6aAFBeY9blKTmC1BNAk/6pJN13bfRHKj9uvybPannisVDoj04egcK4k+M4TQDoufyDFGIVOVBI62AWCgrDwoxU7yhzpBwuHo9Rd/hRyqjwPmbIXW8EM4T/SQL5MLOPs5byjO2aZqXpm7wmpHbr+2ef8QI6/RnlTI6X+85UhRm/+OY1TR5DSR7dWCj0RyHPmnEnx3GOANB5+Qcpxjot6zBMEhwclH003sUnelwZcZrK9E5rmSSDyQcAgzVaV4Y0Yy7KY5iV8TGsvoXKoLrJC2C55ZUvbHtF/7QYL09q+SegqD+G0nhZR+3LSAQuTR5Qkkc1FiX9MWjkUY87OZxT/QjcM9UyGm96Bk3OBceLkHoYABLwhqn3guNFSD0MAIQQclEYAAgh5KIwABBCyEVhACCEkIvCAEAIIReFAYAQQi4KAwAhhFyU4wPA4z7c/G1gt3v300D97sw49duqvueNYC3qknbfShusWtwepWx7tPtUHCtNnkYyt0Cjh211tdz20lho5WlVjmYscNTEa/eyOO5afS7bzgsjF8pZNw7n4tgAEB8B8XwM95/34RHmaZQ82DK/VEjFoK/AGgIU9xvnrCTqsMcgTJ+tvfGqXV0wmNKOWpwBMz9uYNXtUWp5zHvBcQLINz9dQJOnkcyN0OhhO11Vtr0wFip5WpZTGgs4YqPzfpzT+pMfQ5XteFz7xNvr3pBjAwBm/9EJoLgneJ87gR2xonUipVhQ/FiRMEPaolzb6lI4PRhMVMHipEghT1yXSh4YeZzJjFn1DWWNZO6GRg/X6qqi7av0UJCnVTmSzJqxWOapC+L5AIAAMe44300vOnPwEpCZ8c8OgXsOX7d79yshQxZOoBPFmcULo7DqvDLb6oLBhI/LxqCjwsQ+WzhhlB0aNYwnvj0qJiWPeW+a5pnZ7IeZ+YXHHZfz9JO5DRo9XKururbHSGMxRyfP2nJWjIV9SpD0J6/PITnbgZy+zxgAGqXnl3kKuN2G28+bCQb3LrN/pBR6ZznnbDeChbSuK57VaR1K3e1RGXkwG3z1r5nN4VE/7udCnj4yyzS7fSxCN65LtG2f0OlGWZ5t5ajHAm2xfWzKUYyX9JTiSbbJ1jE9STAAtEhYAro/Zu/1uhdAZO0j9QqKxoLZSymPkuZ1Rc5C5VDM6/BMepCUa408GWdqifI0l7klPZd/DFUBQDsWJXm2lrNmLLR1ptpuSNWBPlwEdJMSxbwNhwYA6RawPX8DEA2jEznl9T9CzX+0XE/zumKDEQwo7kupb6VZ0xp5UE5p3BZ5GsrcGo0eavIkUbQd1IxFTp4W5Ujvq8ZCaOuCTB5twN9DL/bgFE8As98A7n3+FVQiP9hmNmGjvE4hSqTqwuPo/JaltHLhfcw6khfCOLbUNeYxMzKXafzPilgePNoHBm5nXua1e2mBE5jVZb4j3h5Vbnvp9jFQztNG5pF9dCOklCevG+W2a8fC00KfQbJdKv0x7Q3z2HbNA/8oT0mfJzRjAXJteieO/w0g3Afws9+1kAtKj7CYJViDUmhDCldGnKYyvSNZJkm5skbesK59bo9SyjOrx8gitV2TB2yW2dFCNzyNln+yugGybVeOhScpT6tyRjRjsdBVIVNRn4u2EwCZgzxiu96IwwPAXqmW0aDmsyRCAHWD/CkwACTgDVMkBXWD/CkwABBCyEVhACCEkIvCAEAIIReFAYAQQi4KAwAhhFwUBgBCCLkoDACEEHJRjg8A0U7gXU4DDXcYfkhb/VuiuWmo4jaiHNHOyfQuRZxnHhxuJW/TLOQpySztChU2T2lkLo6Xsq4G+B23cQrl1uTRk7/JS12XSjfyY6pvl+LmNYtGD0lPDg4AuAHsNnw9pgPhno+v4dHzLKB4+zm2yHdyFv5QrNxNQ5o8OtAO8/1gmzvOPYl3vY/5foxnqCTryufRyazpV4XMqvHS1NUGOKy4vfF7mjw6cP7N/KiE+CYvXV3lftaMqa6usswjkKmkh6Q3xwYAM/v/GR0HjWsi79EJoS3SCyh6pMWY2fSefGic+6YAYNq1mEEZ5xmfjYK2lnaxavJ4NgUAjcyq8dovACyIA5SEJo+E0PbiqaBSXUrd8Kj1MFGXRuYaHSP9ONcTwPMxfN1vw8/bV5Rve5owzmKmtJjx9L/1qXsAsE7QfN9P68xMWb45q+Qo65xpPgBMywTyQV1KmYvjpamrD0WHbNDkkRC/JznzALkuTT9PaPVQqksnM+Q5KGCTGef6DeB2Hx6P8aJ4Me+GFHLErU/9A4ABs6+XHMbAcPRtKI+bsYX57FG57mOLJk9AjcxYLlj0dUlmw5rxEusq8P43eWXqUvSzRyuvlE8lc6WOkX4cHwDihGWhngEAShcZ0FoDrUFTR3M5YHihkdvXcKLG2Hw9WFMP+0OTJ6BKZpSdcV4WQeZV46WpayvSEkiMJk+C6gBQU1fczwGq/k3UpZLZ1q3XMdKP0wUA3AgW3xLWInkkBf0jfgMQWK6zuqWAWR3mvZkj0OSZaB0AYplXj5eirq2Izi5CkyeJ0IZceTV15dbgNWOarEslc52OkX4cHgCewX/8PNz6/3RDWLv0wiio/c8D99Ko5/Bn3PpkWhJ8F0sgmOHFxVljDAzU/veHZLCFPJ6UzKhfcxNTUWbFeGnrMjnfbEzH3zte/62DWTJeu5cxubo0uuHZ1i6dzDU6RvpxbAB4Pob7za//34b7V/QfQQ1TiFU26wgyzsDkGQ2zYAk5XBlxmpWpyePIOgtraO77xjiTt2IZrAPwdSUcQTaPUubiTUxKmTXjVawLtBhTT6Pln1JQn/dR4FhjcnVp+rlCD4vtUsqs0UPSl/P9BtAp1TIaZnq2Rd4PjikhIcPwf3qRYAOnTy77AAAAAElFTkSuQmCC)"
      ],
      "metadata": {
        "id": "ixX3qFlnXl1w"
      }
    },
    {
      "cell_type": "code",
      "source": [
        "from pydrive.auth import GoogleAuth\n",
        "from pydrive.drive import GoogleDrive\n",
        "from google.colab import auth\n",
        "from oauth2client.client import GoogleCredentials\n",
        "\n",
        "\n",
        "# Authenticate and create the PyDrive client.\n",
        "auth.authenticate_user()\n",
        "gauth = GoogleAuth()\n",
        "gauth.credentials = GoogleCredentials.get_application_default()\n",
        "drive = GoogleDrive(gauth)\n",
        "\n",
        "#CSV con datos de inmuebles\n",
        "link = 'https://drive.google.com/file/d/1hWnP7jMSNVaWDkTAbwq9oITBD-qRkV7I' # Enlace de drive del CSV\n",
        "\n",
        "fluff, id = link.split('d/')\n",
        "print(id)\n",
        "\n",
        "downloaded = drive.CreateFile({'id':id}) \n",
        "downloaded.GetContentFile('export.csv')  "
      ],
      "metadata": {
        "id": "o2wX9WUuZHnU",
        "colab": {
          "base_uri": "https://localhost:8080/"
        },
        "outputId": "23e8b30b-481d-4e73-f365-a1cad5149d2d"
      },
      "execution_count": null,
      "outputs": [
        {
          "output_type": "stream",
          "name": "stdout",
          "text": [
            "1hWnP7jMSNVaWDkTAbwq9oITBD-qRkV7I\n"
          ]
        }
      ]
    },
    {
      "cell_type": "code",
      "source": [
        "import pandas as pd\n",
        "df = pd.read_csv('export.csv')\n",
        "df = df.reset_index()\n",
        "df['id'] = df['id'].astype('int')\n",
        "\n",
        "print(df)"
      ],
      "metadata": {
        "id": "Lk8Fegm7dDuZ",
        "colab": {
          "base_uri": "https://localhost:8080/"
        },
        "outputId": "f36e8d5c-82eb-4874-9192-591dc8d17e07"
      },
      "execution_count": null,
      "outputs": [
        {
          "output_type": "stream",
          "name": "stdout",
          "text": [
            "      index    id        lat        lng\n",
            "0         0     1 -12.384958 -76.786704\n",
            "1         1     2 -12.107567 -77.049790\n",
            "2         2     3 -12.120889 -76.980148\n",
            "3         3     4 -12.291337 -76.832721\n",
            "4         4     5 -12.078463 -76.999114\n",
            "...     ...   ...        ...        ...\n",
            "8108   8108  8109 -12.220929 -76.935488\n",
            "8109   8109  8110 -11.979789 -77.091756\n",
            "8110   8110  8111 -12.093845 -76.925544\n",
            "8111   8111  8112 -12.002000 -76.752000\n",
            "8112   8112  8113 -11.940000 -77.126000\n",
            "\n",
            "[8113 rows x 4 columns]\n"
          ]
        }
      ]
    },
    {
      "cell_type": "markdown",
      "source": [
        "# Generar relación con lugares de interes"
      ],
      "metadata": {
        "id": "36tGUtarCcSq"
      }
    },
    {
      "cell_type": "code",
      "execution_count": null,
      "metadata": {
        "id": "zZ5Gbe7IwlOX"
      },
      "outputs": [],
      "source": [
        "lugares_interes = {\n",
        "    'bank': 1,\n",
        "    'drugstore': 2, \n",
        "    'supermarket': 3,\n",
        "    'restaurant': 4,\n",
        "    'hospital': 5,\n",
        "    'school': 6,\n",
        "    'gym': 7,\n",
        "    'park': 8,\n",
        "    'police': 9,\n",
        "    'movie_theater': 10\n",
        "}"
      ]
    },
    {
      "cell_type": "code",
      "source": [
        "import requests\n",
        "import json\n",
        "\n",
        "radius = 1000 #metros\n",
        "API_KEY = \"\" #aqui va la API key de Google maps\n",
        "payload={}\n",
        "headers = {}\n",
        "list_relacion = []\n",
        "num_calls = 0\n",
        "for index, row in df.iterrows():\n",
        "    id_real_estate = row['id']\n",
        "    lat = row['lat']\n",
        "    lng = row['lng']\n",
        "    url = f\"https://maps.googleapis.com/maps/api/place/nearbysearch/json?location={lat}%2C{lng}&radius={radius}&key={API_KEY}\"\n",
        "    response = requests.request(\"GET\", url, headers=headers, data=payload)\n",
        "    num_calls = num_calls + 1\n",
        "    print(f\"Numero de llamadas al API de Google: {num_calls}\")\n",
        "    response_obj = json.loads(response.text)\n",
        "    if response_obj[\"results\"]: \n",
        "      for lugar_interes in lugares_interes: \n",
        "        for result in response_obj[\"results\"]: \n",
        "          if any(lugar_interes in s for s in result[\"types\"]):\n",
        "            relacion = (id_real_estate, lugares_interes[lugar_interes])\n",
        "            list_relacion.append(relacion)  \n",
        "            break"
      ],
      "metadata": {
        "id": "XwAZgYL5t224"
      },
      "execution_count": null,
      "outputs": []
    },
    {
      "cell_type": "code",
      "source": [
        "print(f\"Numero de llamadas al API de Google: {num_calls}\")"
      ],
      "metadata": {
        "id": "_Y5K4yXzfqWJ"
      },
      "execution_count": null,
      "outputs": []
    },
    {
      "cell_type": "code",
      "source": [
        "print(list_relacion)"
      ],
      "metadata": {
        "id": "aJAIp_Z94fit"
      },
      "execution_count": null,
      "outputs": []
    },
    {
      "cell_type": "markdown",
      "source": [
        "# Exportar resultados a Archivo de texto"
      ],
      "metadata": {
        "id": "XMHqQekYyJjv"
      }
    },
    {
      "cell_type": "code",
      "source": [
        "with open('/REALESTATE-INTERESTPLACE.txt', 'w') as writefile:\n",
        "    for relacion in list_relacion: \n",
        "      writefile.write(f\"INSERT INTO REAL_ESTATE_INTEREST_DETAIL (idRealEstate,idTypeInterestPlace) VALUES ({int(relacion[0])},{int(relacion[1])});\\n\")"
      ],
      "metadata": {
        "id": "djJWg0XqyPvz"
      },
      "execution_count": null,
      "outputs": []
    }
  ]
}