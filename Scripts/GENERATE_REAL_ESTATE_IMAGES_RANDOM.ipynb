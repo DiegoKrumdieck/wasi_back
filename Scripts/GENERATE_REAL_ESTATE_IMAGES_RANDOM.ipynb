{
  "cells": [
    {
      "cell_type": "code",
      "execution_count": null,
      "metadata": {
        "id": "yu1qYiAx0CMl"
      },
      "outputs": [],
      "source": [
        "direcciones_imagenes = ['https://www.deplace.es/wp-content/uploads/2019/01/que-es-bien-inmueble.jpg','https://img10.naventcdn.com/avisos/11/00/57/98/46/56/720x532/206161085.jpg','https://www.verticearquitectos.com/images/projects/og/441-casa-rdr-en-lima-peru-5cc803265678f.jpg',\n",
        "                        'https://media-cdn.tripadvisor.com/media/photo-s/10/b3/9d/c9/casa-de-huespedes-porta.jpg','https://www.buscocasita.com/img500/51/2015/02/59604.jpg',\n",
        "                        'https://imganuncios.mitula.net/venta_de_hermosa_casa_de_3_pisos_3630128651319233106.jpg']"
      ]
    },
    {
      "cell_type": "code",
      "execution_count": null,
      "metadata": {
        "id": "Mr22FzXj1Hwt"
      },
      "outputs": [],
      "source": [
        "import random  \n",
        "numero_inmuebles = 8113\n",
        "arreglo_de_arreglos = []\n",
        "\n",
        "for i in range(0,numero_inmuebles): \n",
        "  numero_imagenes = random.randint(1, len(direcciones_imagenes))\n",
        "  arreglo_random = random.sample(direcciones_imagenes,numero_imagenes)\n",
        "  arreglo_de_arreglos.append(arreglo_random)"
      ]
    },
    {
      "cell_type": "code",
      "execution_count": null,
      "metadata": {
        "id": "dTezNFke3W9p"
      },
      "outputs": [],
      "source": [
        "with open('/REAL_ESTATE_IMAGES.sql', 'w') as writefile:\n",
        "    for i in range(0,numero_inmuebles): \n",
        "      for url_imagen in arreglo_de_arreglos[i]:\n",
        "        writefile.write(f\"INSERT INTO REAL_ESTATE_IMAGES (idRealEstate,idOrder,imageURL) VALUES ({i+1},{arreglo_de_arreglos[i].index(url_imagen)+1},'{url_imagen}');\\n\")"
      ]
    }
  ],
  "metadata": {
    "colab": {
      "name": "GENERAR INMUEBLES IMAGENES RANDOM",
      "provenance": []
    },
    "kernelspec": {
      "display_name": "Python 3",
      "name": "python3"
    },
    "language_info": {
      "name": "python"
    }
  },
  "nbformat": 4,
  "nbformat_minor": 0
}